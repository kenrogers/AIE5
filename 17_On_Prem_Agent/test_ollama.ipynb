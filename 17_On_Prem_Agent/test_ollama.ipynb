{
 "cells": [
  {
   "cell_type": "code",
   "execution_count": 1,
   "metadata": {},
   "outputs": [],
   "source": [
    "from langchain_ollama import ChatOllama\n",
    "\n",
    "llm = ChatOllama(model=\"deepseek-r1:8b\")"
   ]
  },
  {
   "cell_type": "code",
   "execution_count": 2,
   "metadata": {},
   "outputs": [
    {
     "name": "stdout",
     "output_type": "stream",
     "text": [
      "<think>\n",
      "First, I recognize that finding the cube root of a number involves identifying which number multiplied by itself three times equals that number.\n",
      "\n",
      "Next, I consider the number 27. I know that 3 multiplied by itself three times (3 × 3 × 3) equals 27.\n",
      "\n",
      "Therefore, the cube root of 27 is 3.\n",
      "</think>\n",
      "\n",
      "To find the **3rd root** of **27**, follow these easy steps:\n",
      "\n",
      "1. **Understand What a Cube Root Is:**\n",
      "   \n",
      "   The *cube root* of a number \\( x \\), denoted as \\( \\sqrt[3]{x} \\), is a number that, when multiplied by itself three times (i.e., cubed), gives \\( x \\).\n",
      "\n",
      "2. **Apply the Definition to 27:**\n",
      "   \n",
      "   We need to find a number \\( y \\) such that:\n",
      "   \\[\n",
      "   y^3 = 27\n",
      "   \\]\n",
      "\n",
      "3. **Find the Number:**\n",
      "   \n",
      "   Let's try some numbers:\n",
      "   \n",
      "   - \\( 1^3 = 1 \\) (Too small)\n",
      "   - \\( 2^3 = 8 \\) (Still too small)\n",
      "   - \\( 3^3 = 27 \\) (Perfect!)\n",
      "\n",
      "4. **Conclusion:**\n",
      "   \n",
      "   The number that satisfies the equation is **3**.\n",
      "\n",
      "\\[\n",
      "\\boxed{3}\n",
      "\\]"
     ]
    }
   ],
   "source": [
    "for chunk in llm.stream(\"What is the 3rd root of 27?\"):\n",
    "    print(chunk.content, end=\"\")"
   ]
  }
 ],
 "metadata": {
  "kernelspec": {
   "display_name": ".venv",
   "language": "python",
   "name": "python3"
  },
  "language_info": {
   "codemirror_mode": {
    "name": "ipython",
    "version": 3
   },
   "file_extension": ".py",
   "mimetype": "text/x-python",
   "name": "python",
   "nbconvert_exporter": "python",
   "pygments_lexer": "ipython3",
   "version": "3.13.1"
  }
 },
 "nbformat": 4,
 "nbformat_minor": 2
}
